{
 "cells": [
  {
   "cell_type": "markdown",
   "metadata": {},
   "source": [
    "# Pricing Analysis"
   ]
  },
  {
   "cell_type": "markdown",
   "metadata": {},
   "source": [
    "Let's first load a public dataset on Amazon pricing that captures ratings for books from reviewers. These are easily available through xyz. "
   ]
  },
  {
   "cell_type": "code",
   "execution_count": 64,
   "metadata": {},
   "outputs": [],
   "source": [
    "import matplotlib\n",
    "import matplotlib.pyplot as plt\n",
    "import pandas as pd\n",
    "import numpy as np\n",
    "\n",
    "# df = pd.read_csv(\"/home/ratish/Downloads/09-19-Amazon-Ranking-Analysis.csv\")\n",
    "df = pd.read_csv(\"/home/ratish/Downloads/ratings_Books.csv\",\n",
    "                 names=[\"reviewer_id\", \"asin\", \"rating\", \"unix_review_time\"])\n",
    "# df = df[:1000000]"
   ]
  },
  {
   "cell_type": "markdown",
   "metadata": {},
   "source": [
    "Now that we have the dataset available in dataframe object df, we can run a few initial manipulations to get a sense of the volume and unique number of rows. "
   ]
  },
  {
   "cell_type": "code",
   "execution_count": 2,
   "metadata": {},
   "outputs": [
    {
     "name": "stdout",
     "output_type": "stream",
     "text": [
      "Number of reviews:  1000000\n",
      "Number of unique reviewers:  678854\n",
      "Number of unique books:  31164\n",
      "Average number of reviews per reviewer:  1.4730707928361622\n",
      "Do reviewers write multiple reviews for the same book?: 1 rating per reviewer and book\n"
     ]
    }
   ],
   "source": [
    "print(\"Number of reviews: \", df.rating.count())\n",
    "print(\"Number of unique reviewers: \", df.reviewer_id.nunique())\n",
    "print(\"Number of unique books: \", df.asin.nunique())\n",
    "print(\"Average number of reviews per reviewer: \",df.reviewer_id.count()/df.reviewer_id.nunique())\n",
    "print(\"Do reviewers write multiple reviews for the same book?:\",df.groupby(['reviewer_id','asin']).count().rating.max(),\"rating per reviewer and book\")\n"
   ]
  },
  {
   "cell_type": "markdown",
   "metadata": {},
   "source": [
    "## Distribution of number of reviews by rating"
   ]
  },
  {
   "cell_type": "code",
   "execution_count": 3,
   "metadata": {},
   "outputs": [
    {
     "data": {
      "text/plain": [
       "<matplotlib.axes._subplots.AxesSubplot at 0x7fda11d49668>"
      ]
     },
     "execution_count": 3,
     "metadata": {},
     "output_type": "execute_result"
    }
   ],
   "source": [
    "rating_buckets = df.groupby('rating').count()[\"reviewer_id\"]\n",
    "rating_pc = (rating_buckets/df.reviewer_id.count()) *100\n",
    "# rating_pc\n",
    "rating_pc.plot(kind=\"bar\", title=\"Rating Distribution\")"
   ]
  },
  {
   "cell_type": "markdown",
   "metadata": {},
   "source": [
    "Let's see if there is a temporal bias in the ratings. I'm interested in finding out whether blah blah"
   ]
  },
  {
   "cell_type": "code",
   "execution_count": 4,
   "metadata": {},
   "outputs": [
    {
     "data": {
      "text/plain": [
       "<matplotlib.axes._subplots.AxesSubplot at 0x7fda11869ba8>"
      ]
     },
     "execution_count": 4,
     "metadata": {},
     "output_type": "execute_result"
    },
    {
     "data": {
      "image/png": "[encoded data removed]",
      "text/plain": [
       "<matplotlib.figure.Figure at 0x7fda6957f8d0>"
      ]
     },
     "metadata": {},
     "output_type": "display_data"
    }
   ],
   "source": [
    "review_buckets = df.groupby('rating').count()[\"reviewer_id\"]\n",
    "review_buckets.plot(kind=\"bar\", title=\"Reviewer Bias\")"
   ]
  },
  {
   "cell_type": "code",
   "execution_count": 5,
   "metadata": {},
   "outputs": [],
   "source": [
    "# [DONE]\n",
    "# Total number of reviews\n",
    "# Number of unique reviewers\n",
    "# Number of unique books\n",
    "# Avg number of reviews per user\n",
    "# Do reviewers write multiple reviews for the same book?\n",
    "# Plot of Distribution of rating (X-axis: rating, y-axis: percentage of reviews)\n",
    "\n",
    "# [TO-DO]\n",
    "# Pick the book with the most reviews and then show how its average rating has moved with time (human-readable).\n",
    "# Do you think amateur reviewers rate poorly (are biased)?  Do you think experienced reviewers are more generous?"
   ]
  },
  {
   "cell_type": "code",
   "execution_count": null,
   "metadata": {},
   "outputs": [],
   "source": [
    "def bub_unique(x):\n",
    "    return x.nunique()\n",
    "        \n",
    "# Intention df.groupby('reviewer_bin').mean()[\"rating\"] # Where reviwer_bin \n",
    "# is the bin of the number of counts of a given user. eg if number of users for user A are 13 and \n",
    "# bin size is 5, then reviewer_bin is ceil(13/5) = 2\n",
    "df_with_index = df.set_index(\"reviewer_id\", drop=False)\n",
    "df_with_index[\"reviewer_counts\"] = reviewer_counts\n",
    "bin_size=10\n",
    "df_with_index[\"reviewer_bin\"] = df_with_index[\"reviewer_counts\"]//bin_size\n",
    "df_new = df_with_index.groupby(\"reviewer_bin\").agg({'rating': np.mean, 'reviewer_id': bub_unique})\n",
    "df_new.plot(y='rating', use_index=True, xlim=[0,9], style='ro-')"
   ]
  }
 ],
 "metadata": {
  "kernelspec": {
   "display_name": "Python 3",
   "language": "python",
   "name": "python3"
  },
  "language_info": {
   "codemirror_mode": {
    "name": "ipython",
    "version": 3
   },
   "file_extension": ".py",
   "mimetype": "text/x-python",
   "name": "python",
   "nbconvert_exporter": "python",
   "pygments_lexer": "ipython3",
   "version": "3.6.4"
  }
 },
 "nbformat": 4,
 "nbformat_minor": 2
}
