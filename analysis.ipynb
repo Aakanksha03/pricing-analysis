{
 "cells": [
  {
   "cell_type": "markdown",
   "metadata": {},
   "source": [
    "# Pricing Analysis"
   ]
  },
  {
   "cell_type": "code",
   "execution_count": 14,
   "metadata": {},
   "outputs": [],
   "source": [
    "import matplotlib\n",
    "import pandas as pd\n",
    "# df = pd.read_csv(\"/home/ratish/Downloads/09-19-Amazon-Ranking-Analysis.csv\")\n",
    "df = pd.read_csv(\"/home/ratish/Downloads/ratings_Books.csv\",\n",
    "                 names=[\"reviewer_id\", \"asin\", \"rating\", \"unix_review_time\"])"
   ]
  },
  {
   "cell_type": "code",
   "execution_count": 105,
   "metadata": {
    "scrolled": true
   },
   "outputs": [
    {
     "data": {
      "text/plain": [
       "2.8041672626223413"
      ]
     },
     "execution_count": 105,
     "metadata": {},
     "output_type": "execute_result"
    }
   ],
   "source": [
    "# Total number of reviews\n",
    "df.rating.count()\n",
    "\n",
    "# Number of unique reviewers\n",
    "df.reviewer_id.nunique()\n",
    "\n",
    "# Number of unique books\n",
    "df.asin.nunique()\n",
    "\n",
    "# Avg number of reviews per user\n",
    "df.reviewer_id.count()/df.reviewer_id.nunique()\n",
    "\n",
    "# Do reviewers write multiple reviews for the same book?\n",
    "\n",
    "# Plot of Distribution of rating (X-axis: rating, y-axis: percentage of reviews)\n",
    "# Pick the book with the most reviews and then show how its average rating has moved with time (human-readable).\n",
    "# Do you think amateur reviewers rate poorly (are biased)?  Do you think experienced reviewers are more generous?"
   ]
  },
  {
   "cell_type": "code",
   "execution_count": 116,
   "metadata": {},
   "outputs": [
    {
     "name": "stdout",
     "output_type": "stream",
     "text": [
      "Number of unique reviewers:  22507155\n",
      "Number of unique books:  8026324\n",
      "Average number of reviews per reviewer:  2.8041672626223413\n",
      "Do reviewers write multiple reviews for the same book?: 1 rating per reviewer and book\n"
     ]
    }
   ],
   "source": [
    "print(\"Number of unique reviewers: \",df.rating.count())\n",
    "print(\"Number of unique books: \",df.reviewer_id.nunique())\n",
    "print(\"Average number of reviews per reviewer: \",df.reviewer_id.count()/df.reviewer_id.nunique())\n",
    "print(\"Do reviewers write multiple reviews for the same book?:\",df.groupby(['reviewer_id','asin']).count().rating.max(),\"rating per reviewer and book\")\n"
   ]
  },
  {
   "cell_type": "code",
   "execution_count": 118,
   "metadata": {},
   "outputs": [
    {
     "data": {
      "text/plain": [
       "<matplotlib.axes._subplots.AxesSubplot at 0x7f54c8671358>"
      ]
     },
     "execution_count": 118,
     "metadata": {},
     "output_type": "execute_result"
    },
    {
     "data": {
      "image/png": "[encoded data removed]",
      "text/plain": [
       "<matplotlib.figure.Figure at 0x7f54c867ea20>"
      ]
     },
     "metadata": {},
     "output_type": "display_data"
    }
   ],
   "source": [
    "review_buckets = df.groupby('rating').count()[\"reviewer_id\"]\n",
    "review_buckets.plot(kind=\"bar\", title=\"Reviewer Bias\")"
   ]
  },
  {
   "cell_type": "code",
   "execution_count": 115,
   "metadata": {},
   "outputs": [
    {
     "data": {
      "text/plain": [
       "<matplotlib.axes._subplots.AxesSubplot at 0x7f54c86590f0>"
      ]
     },
     "execution_count": 115,
     "metadata": {},
     "output_type": "execute_result"
    },
    {
     "data": {
      "image/png": "[encoded data removed]",
      "text/plain": [
       "<matplotlib.figure.Figure at 0x7f54c8671048>"
      ]
     },
     "metadata": {},
     "output_type": "display_data"
    }
   ],
   "source": [
    "rating_buckets = df.groupby('rating').count()[\"reviewer_id\"]\n",
    "rating_pc = (rating_buckets/df.reviewer_id.count()) *100\n",
    "# rating_pc\n",
    "rating_pc.plot(kind=\"bar\", title=\"Rating Distribution\")"
   ]
  }
 ],
 "metadata": {
  "kernelspec": {
   "display_name": "Python 3",
   "language": "python",
   "name": "python3"
  },
  "language_info": {
   "codemirror_mode": {
    "name": "ipython",
    "version": 3
   },
   "file_extension": ".py",
   "mimetype": "text/x-python",
   "name": "python",
   "nbconvert_exporter": "python",
   "pygments_lexer": "ipython3",
   "version": "3.6.4"
  }
 },
 "nbformat": 4,
 "nbformat_minor": 2
}
